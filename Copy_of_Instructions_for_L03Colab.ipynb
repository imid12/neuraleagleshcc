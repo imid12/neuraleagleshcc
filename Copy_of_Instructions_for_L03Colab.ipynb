{
  "nbformat": 4,
  "nbformat_minor": 0,
  "metadata": {
    "colab": {
      "provenance": [],
      "include_colab_link": true
    },
    "kernelspec": {
      "name": "python3",
      "display_name": "Python 3"
    },
    "language_info": {
      "name": "python"
    }
  },
  "cells": [
    {
      "cell_type": "markdown",
      "metadata": {
        "id": "view-in-github",
        "colab_type": "text"
      },
      "source": [
        "<a href=\"https://colab.research.google.com/github/imid12/neuraleagleshcc/blob/main/Copy_of_Instructions_for_L03Colab.ipynb\" target=\"_parent\"><img src=\"https://colab.research.google.com/assets/colab-badge.svg\" alt=\"Open In Colab\"/></a>"
      ]
    },
    {
      "cell_type": "markdown",
      "source": [
        "This is a print statment....//.;"
      ],
      "metadata": {
        "id": "LVqd6rCt9S1K"
      }
    },
    {
      "cell_type": "code",
      "execution_count": null,
      "metadata": {
        "colab": {
          "base_uri": "https://localhost:8080/"
        },
        "id": "yninB7xk9NKm",
        "outputId": "a5d320d6-b549-4a8f-bf3b-f3375a85ef46"
      },
      "outputs": [
        {
          "output_type": "stream",
          "name": "stdout",
          "text": [
            "mylab\n"
          ]
        }
      ],
      "source": [
        "print(\"mylab\")"
      ]
    },
    {
      "cell_type": "markdown",
      "source": [
        "Here i downloaded a dataset from Kaggle and timed it"
      ],
      "metadata": {
        "id": "aUeB6kSa9sKs"
      }
    },
    {
      "cell_type": "code",
      "source": [
        "# Here download kaggle data set and time it\n",
        "# Install the kagglehub library if it's not already installed.\n",
        "# This specific version is required for compatibility with the download method used.\n",
        "!pip install kagglehub==0.3.8\n",
        "\n",
        "import time\n",
        "import kagglehub\n",
        "\n",
        "# Record the current time to measure download duration.\n",
        "curr = time.time()\n",
        "\n",
        "# Download the specified dataset from Kaggle Hub.\n",
        "# The dataset is identified by its owner and name: \"adilshamim8/sleep-cycle-and-productivity\".\n",
        "# This function downloads the dataset to a local directory.  The function returns the path\n",
        "# to the downloaded dataset.\n",
        "download_path = kagglehub.dataset_download(\"adilshamim8/sleep-cycle-and-productivity\")\n",
        "\n",
        "# Calculate the time taken for the download.\n",
        "end_time = time.time()\n",
        "download_time = end_time - curr\n",
        "\n",
        "# Print a formatted message displaying the download time.\n",
        "print(\"\")  # Add an empty line for better readability.\n",
        "print(\"-----------------------------------------------------------------\")\n",
        "print(f\"Download time of Sleep Cycle & Productivity dataset: {download_time:.2f} seconds\")\n",
        "print(\"-----------------------------------------------------------------\")\n",
        "print(\"\")  # Add an empty line for better readability.\n",
        "\n",
        "# The downloaded dataset is now available at the path stored in the `download_path` variable.\n",
        "# You can use this path to access the data for further processing or analysis.\n",
        "# Added the csv file to pandas to read the data into a dataframe:\n",
        "import pandas as pd\n",
        "data = pd.read_csv(f\"{path}/sleep_cycle_productivity.csv\") # Replace your_data_file.csv with the actual file name.\n",
        "print(data.head())"
      ],
      "metadata": {
        "colab": {
          "base_uri": "https://localhost:8080/"
        },
        "id": "TDjUIUPzQOwf",
        "outputId": "bf59e20c-2e13-4a42-e61c-fd9150a7109c"
      },
      "execution_count": 32,
      "outputs": [
        {
          "output_type": "stream",
          "name": "stdout",
          "text": [
            "Requirement already satisfied: kagglehub==0.3.8 in /usr/local/lib/python3.11/dist-packages (0.3.8)\n",
            "Requirement already satisfied: packaging in /usr/local/lib/python3.11/dist-packages (from kagglehub==0.3.8) (24.2)\n",
            "Requirement already satisfied: requests in /usr/local/lib/python3.11/dist-packages (from kagglehub==0.3.8) (2.32.3)\n",
            "Requirement already satisfied: tqdm in /usr/local/lib/python3.11/dist-packages (from kagglehub==0.3.8) (4.67.1)\n",
            "Requirement already satisfied: charset-normalizer<4,>=2 in /usr/local/lib/python3.11/dist-packages (from requests->kagglehub==0.3.8) (3.4.1)\n",
            "Requirement already satisfied: idna<4,>=2.5 in /usr/local/lib/python3.11/dist-packages (from requests->kagglehub==0.3.8) (3.10)\n",
            "Requirement already satisfied: urllib3<3,>=1.21.1 in /usr/local/lib/python3.11/dist-packages (from requests->kagglehub==0.3.8) (2.3.0)\n",
            "Requirement already satisfied: certifi>=2017.4.17 in /usr/local/lib/python3.11/dist-packages (from requests->kagglehub==0.3.8) (2025.1.31)\n",
            "Warning: Looks like you're using an outdated `kagglehub` version (installed: 0.3.7), please consider upgrading to the latest version (0.3.8).\n",
            "\n",
            "-----------------------------------------------------------------\n",
            "Download time of Sleep Cycle & Productivity dataset: 0.99 seconds\n",
            "-----------------------------------------------------------------\n",
            "\n",
            "         Date  Person_ID  Age  Gender  Sleep Start Time  Sleep End Time  \\\n",
            "0  2024-04-12       1860   32   Other             23.33            4.61   \n",
            "1  2024-11-04       1769   41  Female             21.02            2.43   \n",
            "2  2024-08-31       2528   20    Male             22.10            3.45   \n",
            "3  2024-02-22       8041   37   Other             23.10            6.65   \n",
            "4  2024-02-23       4843   46   Other             21.42            4.17   \n",
            "\n",
            "   Total Sleep Hours  Sleep Quality  Exercise (mins/day)  \\\n",
            "0               5.28              3                   86   \n",
            "1               5.41              5                   32   \n",
            "2               5.35              7                   17   \n",
            "3               7.55              8                   46   \n",
            "4               6.75             10                   61   \n",
            "\n",
            "   Caffeine Intake (mg)  Screen Time Before Bed (mins)  Work Hours (hrs/day)  \\\n",
            "0                    87                            116              8.808920   \n",
            "1                    21                             88              6.329833   \n",
            "2                    88                             59              8.506306   \n",
            "3                    34                             80              6.070240   \n",
            "4                   269                             94             11.374994   \n",
            "\n",
            "   Productivity Score  Mood Score  Stress Level  \n",
            "0                   8           3             6  \n",
            "1                  10           3             7  \n",
            "2                  10           9            10  \n",
            "3                   8           4             2  \n",
            "4                   8           7             9  \n"
          ]
        }
      ]
    },
    {
      "cell_type": "code",
      "source": [
        "# you run the loop command powers_of_five"
      ],
      "metadata": {
        "id": "Pl6xnpL9-oUN"
      },
      "execution_count": null,
      "outputs": []
    },
    {
      "cell_type": "code",
      "source": [
        "#Run the myname code; with and without myname variable\n",
        "myname = \"Neural Eagles Hcc\"\n",
        "print(\"Hello \" + myname)\n",
        "\n",
        "myname = input(\"What is your name? \")\n",
        "print(\"Hello \" + myname)\n",
        "\n"
      ],
      "metadata": {
        "id": "SgtdJIJm_Cz0",
        "colab": {
          "base_uri": "https://localhost:8080/"
        },
        "outputId": "18d2bdec-5374-4afa-9311-bf82fc807429"
      },
      "execution_count": 34,
      "outputs": [
        {
          "output_type": "stream",
          "name": "stdout",
          "text": [
            "Hello Neural Eagles Hcc\n",
            "What is your name?Neural Eagles\n",
            "Hello Neural Eagles\n"
          ]
        }
      ]
    },
    {
      "cell_type": "code",
      "source": [
        "'''\n",
        "Create a csv file with 10 rows and five features on your computer\n",
        "Load the csv file into google colab, find the path and pass the path to pandas to open the csv file and print the top 5 rows of the data\n",
        "features:\n",
        "email, name, age, salary, gender\n",
        "Plt age and salary using matplotlib\n",
        "'''"
      ],
      "metadata": {
        "id": "I2G7G60k_blE"
      },
      "execution_count": null,
      "outputs": []
    }
  ]
}