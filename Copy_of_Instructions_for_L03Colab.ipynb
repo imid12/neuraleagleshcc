{
  "nbformat": 4,
  "nbformat_minor": 0,
  "metadata": {
    "colab": {
      "provenance": [],
      "include_colab_link": true
    },
    "kernelspec": {
      "name": "python3",
      "display_name": "Python 3"
    },
    "language_info": {
      "name": "python"
    }
  },
  "cells": [
    {
      "cell_type": "markdown",
      "metadata": {
        "id": "view-in-github",
        "colab_type": "text"
      },
      "source": [
        "<a href=\"https://colab.research.google.com/github/imid12/neuraleagleshcc/blob/main/Copy_of_Instructions_for_L03Colab.ipynb\" target=\"_parent\"><img src=\"https://colab.research.google.com/assets/colab-badge.svg\" alt=\"Open In Colab\"/></a>"
      ]
    },
    {
      "cell_type": "markdown",
      "source": [
        "This is a print statment....//.;"
      ],
      "metadata": {
        "id": "LVqd6rCt9S1K"
      }
    },
    {
      "cell_type": "markdown",
      "source": [
        "Team Neural Eagles\n",
        "\n",
        "*  Iman Haamid - w203255499@student.hccs.edu\n",
        "*  Raleigh Delesbore - w212346026@student.hccs.edu\n",
        "*  Wahome Itegi - w215251682@student.hccs.edu\n",
        "*  Williane Yarro@student.hccs.edu\n",
        "*  Yoana Cook - W215913890@student.hccs.edu\n"
      ],
      "metadata": {
        "id": "Lsky5LHDUxz6"
      }
    },
    {
      "cell_type": "code",
      "execution_count": null,
      "metadata": {
        "colab": {
          "base_uri": "https://localhost:8080/"
        },
        "id": "yninB7xk9NKm",
        "outputId": "a5d320d6-b549-4a8f-bf3b-f3375a85ef46"
      },
      "outputs": [
        {
          "output_type": "stream",
          "name": "stdout",
          "text": [
            "mylab\n"
          ]
        }
      ],
      "source": [
        "print(\"mylab\")"
      ]
    },
    {
      "cell_type": "markdown",
      "source": [
        "Here i downloaded a dataset from Kaggle and timed it"
      ],
      "metadata": {
        "id": "aUeB6kSa9sKs"
      }
    },
    {
      "cell_type": "code",
      "source": [
        "# Here download kaggle data set and time it\n",
        "# Install the kagglehub library if it's not already installed.\n",
        "# This specific version is required for compatibility with the download method used.\n",
        "!pip install kagglehub==0.3.8\n",
        "\n",
        "import time\n",
        "import kagglehub\n",
        "\n",
        "# Record the current time to measure download duration.\n",
        "curr = time.time()\n",
        "\n",
        "# Download the specified dataset from Kaggle Hub.\n",
        "# The dataset is identified by its owner and name: \"adilshamim8/sleep-cycle-and-productivity\".\n",
        "# This function downloads the dataset to a local directory.  The function returns the path\n",
        "# to the downloaded dataset.\n",
        "download_path = kagglehub.dataset_download(\"adilshamim8/sleep-cycle-and-productivity\")\n",
        "\n",
        "# Calculate the time taken for the download.\n",
        "end_time = time.time()\n",
        "download_time = end_time - curr\n",
        "\n",
        "# Print a formatted message displaying the download time.\n",
        "print(\"\")  # Add an empty line for better readability.\n",
        "print(\"-----------------------------------------------------------------\")\n",
        "print(f\"Download time of Sleep Cycle & Productivity dataset: {download_time:.2f} seconds\")\n",
        "print(\"-----------------------------------------------------------------\")\n",
        "print(\"\")  # Add an empty line for better readability.\n",
        "\n",
        "# Added a pandas dataframe to verify the data was imported.\n",
        "# The downloaded dataset is now available at the path stored in the `download_path` variable.\n",
        "# You can use this path to access the data for further processing or analysis.\n",
        "# Added the csv file to pandas to read the data into a dataframe:\n",
        "import pandas as pd\n",
        "data = pd.read_csv(f\"{path}/sleep_cycle_productivity.csv\") # Replace sleep_cycle_productivity.csv with the actual file name.\n",
        "print(data.head(20))"
      ],
      "metadata": {
        "colab": {
          "base_uri": "https://localhost:8080/"
        },
        "id": "TDjUIUPzQOwf",
        "outputId": "04e15719-567f-4767-86f5-ee612a68d960"
      },
      "execution_count": null,
      "outputs": [
        {
          "output_type": "stream",
          "name": "stdout",
          "text": [
            "Requirement already satisfied: kagglehub==0.3.8 in /usr/local/lib/python3.11/dist-packages (0.3.8)\n",
            "Requirement already satisfied: packaging in /usr/local/lib/python3.11/dist-packages (from kagglehub==0.3.8) (24.2)\n",
            "Requirement already satisfied: requests in /usr/local/lib/python3.11/dist-packages (from kagglehub==0.3.8) (2.32.3)\n",
            "Requirement already satisfied: tqdm in /usr/local/lib/python3.11/dist-packages (from kagglehub==0.3.8) (4.67.1)\n",
            "Requirement already satisfied: charset-normalizer<4,>=2 in /usr/local/lib/python3.11/dist-packages (from requests->kagglehub==0.3.8) (3.4.1)\n",
            "Requirement already satisfied: idna<4,>=2.5 in /usr/local/lib/python3.11/dist-packages (from requests->kagglehub==0.3.8) (3.10)\n",
            "Requirement already satisfied: urllib3<3,>=1.21.1 in /usr/local/lib/python3.11/dist-packages (from requests->kagglehub==0.3.8) (2.3.0)\n",
            "Requirement already satisfied: certifi>=2017.4.17 in /usr/local/lib/python3.11/dist-packages (from requests->kagglehub==0.3.8) (2025.1.31)\n",
            "Warning: Looks like you're using an outdated `kagglehub` version (installed: 0.3.7), please consider upgrading to the latest version (0.3.8).\n",
            "\n",
            "-----------------------------------------------------------------\n",
            "Download time of Sleep Cycle & Productivity dataset: 1.03 seconds\n",
            "-----------------------------------------------------------------\n",
            "\n",
            "          Date  Person_ID  Age  Gender  Sleep Start Time  Sleep End Time  \\\n",
            "0   2024-04-12       1860   32   Other             23.33            4.61   \n",
            "1   2024-11-04       1769   41  Female             21.02            2.43   \n",
            "2   2024-08-31       2528   20    Male             22.10            3.45   \n",
            "3   2024-02-22       8041   37   Other             23.10            6.65   \n",
            "4   2024-02-23       4843   46   Other             21.42            4.17   \n",
            "5   2024-07-08       7439   38    Male             21.77            6.41   \n",
            "6   2024-01-09       6463   18   Other             22.83            6.87   \n",
            "7   2024-01-28       7278   26  Female             20.78            3.14   \n",
            "8   2024-04-10       9110   31   Other             20.07            3.37   \n",
            "9   2024-02-21       6116   49  Female             20.37            3.89   \n",
            "10  2024-02-14       3693   45  Female             21.17            3.29   \n",
            "11  2024-09-15       8526   23   Other             20.60            4.56   \n",
            "12  2024-04-22       2853   29  Female             22.02            6.08   \n",
            "13  2024-08-11       8392   18   Other             21.02            4.17   \n",
            "14  2024-09-11       5389   41    Male             23.55            7.22   \n",
            "15  2024-12-11       2986   36   Other             23.67            7.62   \n",
            "16  2024-10-24       1262   33  Female             23.93            7.02   \n",
            "17  2024-04-08       3255   20  Female             23.53            7.24   \n",
            "18  2024-12-14       3961   35  Female             21.57            5.33   \n",
            "19  2024-05-14       2218   34    Male             23.18            6.23   \n",
            "\n",
            "    Total Sleep Hours  Sleep Quality  Exercise (mins/day)  \\\n",
            "0                5.28              3                   86   \n",
            "1                5.41              5                   32   \n",
            "2                5.35              7                   17   \n",
            "3                7.55              8                   46   \n",
            "4                6.75             10                   61   \n",
            "5                8.64             10                   88   \n",
            "6                8.03              3                   34   \n",
            "7                6.35              8                   36   \n",
            "8                7.31              7                   26   \n",
            "9                7.52              4                   12   \n",
            "10               6.12              7                   88   \n",
            "11               7.96             10                   43   \n",
            "12               8.06              5                   55   \n",
            "13               7.15             10                   31   \n",
            "14               7.67              1                   72   \n",
            "15               7.95              7                   81   \n",
            "16               7.08              1                    1   \n",
            "17               7.71              1                   71   \n",
            "18               7.76              9                   32   \n",
            "19               7.04              6                   21   \n",
            "\n",
            "    Caffeine Intake (mg)  Screen Time Before Bed (mins)  Work Hours (hrs/day)  \\\n",
            "0                     87                            116              8.808920   \n",
            "1                     21                             88              6.329833   \n",
            "2                     88                             59              8.506306   \n",
            "3                     34                             80              6.070240   \n",
            "4                    269                             94             11.374994   \n",
            "5                    251                            123              6.207993   \n",
            "6                    288                            122              4.592357   \n",
            "7                     98                            171              9.100460   \n",
            "8                    206                             14              4.887127   \n",
            "9                    159                             70              6.318012   \n",
            "10                   230                            128              5.823481   \n",
            "11                   151                             58              6.585623   \n",
            "12                    80                            112             11.812920   \n",
            "13                   197                            159              8.741574   \n",
            "14                   123                             69              9.566502   \n",
            "15                   128                             10              6.728531   \n",
            "16                   253                            139              8.466348   \n",
            "17                   103                             83              8.645493   \n",
            "18                    67                             32              7.951150   \n",
            "19                   237                            157             11.784084   \n",
            "\n",
            "    Productivity Score  Mood Score  Stress Level  \n",
            "0                    8           3             6  \n",
            "1                   10           3             7  \n",
            "2                   10           9            10  \n",
            "3                    8           4             2  \n",
            "4                    8           7             9  \n",
            "5                    1           9             7  \n",
            "6                    7          10             9  \n",
            "7                    3           1             3  \n",
            "8                    3           7             1  \n",
            "9                    6           2            10  \n",
            "10                   9           4             9  \n",
            "11                   8           9             4  \n",
            "12                   6           7             5  \n",
            "13                   7           8             1  \n",
            "14                   3           4             4  \n",
            "15                   9           2             7  \n",
            "16                   7           9             9  \n",
            "17                   9           3             9  \n",
            "18                   4           8             8  \n",
            "19                   3           6             8  \n"
          ]
        }
      ]
    },
    {
      "cell_type": "code",
      "source": [
        "# you run the loop command powers_of_five\n",
        "for i in range(5):\n",
        "    print(pow(5,i)) # Using the pow command which has a base (5) and exp (i) as values."
      ],
      "metadata": {
        "id": "Pl6xnpL9-oUN",
        "colab": {
          "base_uri": "https://localhost:8080/"
        },
        "outputId": "eeb861a0-e560-4587-edba-e0dd2f7246e1"
      },
      "execution_count": null,
      "outputs": [
        {
          "output_type": "stream",
          "name": "stdout",
          "text": [
            "1\n",
            "5\n",
            "25\n",
            "125\n",
            "625\n"
          ]
        }
      ]
    },
    {
      "cell_type": "code",
      "source": [
        "#Run the myname code; with and without myname variable\n",
        "myname = \"Neural Eagles Hcc\"\n",
        "print(\"Hello \" + myname)\n",
        "\n",
        "myname = input(\"What is your name? \")\n",
        "print(\"Hello \" + myname)\n",
        "\n"
      ],
      "metadata": {
        "id": "SgtdJIJm_Cz0",
        "colab": {
          "base_uri": "https://localhost:8080/"
        },
        "outputId": "18d2bdec-5374-4afa-9311-bf82fc807429"
      },
      "execution_count": null,
      "outputs": [
        {
          "output_type": "stream",
          "name": "stdout",
          "text": [
            "Hello Neural Eagles Hcc\n",
            "What is your name?Neural Eagles\n",
            "Hello Neural Eagles\n"
          ]
        }
      ]
    },
    {
      "cell_type": "code",
      "source": [
        "'''\n",
        "Create a csv file with 10 rows and five features on your computer\n",
        "Load the csv file into google colab, find the path and pass the path to pandas to open the csv file and print the top 5 rows of the data\n",
        "features:\n",
        "email, name, age, salary, gender\n",
        "Plt age and salary using matplotlib\n",
        "'''\n",
        "import matplotlib.pyplot as plt\n",
        "import pandas as pd # pd is now used import to data\n",
        "import numpy as np\n",
        "\n",
        "data = pd.read_csv(f\"/content/random_data_neural.csv\") # Reading the csv file and assigning it to data\n",
        "print(data.head()) # Using .head 5 or leave blank default is 5 to print the top 5 rows of data\n",
        "\n",
        "# Plotting with Matplotlib commented out the gender version.\n",
        "plt.figure(figsize=(8, 6))  # Adjust figure size for better visualization\n",
        "#plt.scatter(data['age'], data['salary'], c=data['gender'].astype('category').cat.codes, cmap='viridis', label=\"Data Points\")  # Color points by gender\n",
        "plt.scatter(data['age'], data['salary'], label=\"Data Points\")  #\n",
        "plt.xlabel(\"Age\")\n",
        "plt.ylabel(\"Salary\")\n",
        "plt.title(\"Age vs. Salary\")\n",
        "#plt.colorbar(ticks=np.arange(len(data['gender'].unique())), label='Gender (Encoded)')  # Colorbar for gender\n",
        "plt.legend()\n",
        "plt.grid(True)  # Add a grid for better readability\n",
        "plt.show()\n",
        "\n"
      ],
      "metadata": {
        "id": "I2G7G60k_blE",
        "colab": {
          "base_uri": "https://localhost:8080/",
          "height": 670
        },
        "outputId": "8399baaf-76c2-48cb-9990-af4407e384fa"
      },
      "execution_count": null,
      "outputs": [
        {
          "output_type": "stream",
          "name": "stdout",
          "text": [
            "               email      name  age  salary  gender\n",
            "0  student0@hccs.edu  Student0   22   38675  Female\n",
            "1  student1@hccs.edu  Student1   18   83684    Male\n",
            "2  student2@hccs.edu  Student2   64   91365  Female\n",
            "3  student3@hccs.edu  Student3   51   99513    Male\n",
            "4  student4@hccs.edu  Student4   49   50632  Female\n"
          ]
        },
        {
          "output_type": "display_data",
          "data": {
            "text/plain": [
              "<Figure size 800x600 with 1 Axes>"
            ],
            "image/png": "[encoded data removed]"
          },
          "metadata": {}
        }
      ]
    }
  ]
}