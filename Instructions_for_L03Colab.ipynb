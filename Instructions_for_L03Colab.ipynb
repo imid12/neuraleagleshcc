{
  "nbformat": 4,
  "nbformat_minor": 0,
  "metadata": {
    "colab": {
      "provenance": []
    },
    "kernelspec": {
      "name": "python3",
      "display_name": "Python 3"
    },
    "language_info": {
      "name": "python"
    }
  },
  "cells": [
    {
      "cell_type": "markdown",
      "source": [
        "This is a print statment....//.;"
      ],
      "metadata": {
        "id": "LVqd6rCt9S1K"
      }
    },
    {
      "cell_type": "code",
      "execution_count": 1,
      "metadata": {
        "colab": {
          "base_uri": "https://localhost:8080/"
        },
        "id": "yninB7xk9NKm",
        "outputId": "a5d320d6-b549-4a8f-bf3b-f3375a85ef46"
      },
      "outputs": [
        {
          "output_type": "stream",
          "name": "stdout",
          "text": [
            "mylab\n"
          ]
        }
      ],
      "source": [
        "print(\"mylab\")"
      ]
    },
    {
      "cell_type": "markdown",
      "source": [
        "Here i downloaded a dataset from Kaggle and timed it"
      ],
      "metadata": {
        "id": "aUeB6kSa9sKs"
      }
    },
    {
      "cell_type": "code",
      "source": [
        "# Here download kaggle data set and time it"
      ],
      "metadata": {
        "id": "dvi2vwmo936y"
      },
      "execution_count": null,
      "outputs": []
    },
    {
      "cell_type": "code",
      "source": [
        "# you run the loop command powers_of_five"
      ],
      "metadata": {
        "id": "Pl6xnpL9-oUN"
      },
      "execution_count": null,
      "outputs": []
    },
    {
      "cell_type": "code",
      "source": [
        "#Run the myname code; with and without myname variable"
      ],
      "metadata": {
        "id": "SgtdJIJm_Cz0"
      },
      "execution_count": null,
      "outputs": []
    },
    {
      "cell_type": "code",
      "source": [
        "'''\n",
        "Create a csv file with 10 rows and five features on your computer\n",
        "Load the csv file into google colab, find the path and pass the path to pandas to open the csv file and print the top 5 rows of the data\n",
        "features:\n",
        "email, name, age, salary, gender\n",
        "Plt age and salary using matplotlib\n",
        "'''"
      ],
      "metadata": {
        "id": "I2G7G60k_blE"
      },
      "execution_count": null,
      "outputs": []
    }
  ]
}
